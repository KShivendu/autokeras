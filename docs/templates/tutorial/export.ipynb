{
  "nbformat": 4,
  "nbformat_minor": 0,
  "metadata": {
    "colab": {
      "name": "AutoKeras Export.ipynb",
      "provenance": [],
      "collapsed_sections": [],
      "toc_visible": true
    },
    "kernelspec": {
      "name": "python3",
      "display_name": "Python 3"
    }
  },
  "cells": [
    {
      "cell_type": "markdown",
      "metadata": {
        "id": "0fzCrLJIPZ-c",
        "colab_type": "text"
      },
      "source": [
        "[![Open In Colab](https://colab.research.google.com/assets/colab-badge.svg)](https://colab.research.google.com/github/keras-team/autokeras/blob/master/docs/templates/tutorial/export.ipynb)\n",
        "\n"
      ]
    },
    {
      "cell_type": "markdown",
      "metadata": {
        "id": "EJDtVYPlVbBz",
        "colab_type": "text"
      },
      "source": [
        "# Exporting AutoKeras models"
      ]
    },
    {
      "cell_type": "markdown",
      "metadata": {
        "id": "hNdHW41JVgGQ",
        "colab_type": "text"
      },
      "source": [
        "You can easily export your model the best model found by AutoKeras as a Keras Model.\n",
        "\n",
        "The following example uses [ImageClassifier](/image_classifier) as an example.\n",
        "All the tasks and the [AutoModel](/auto_model/#automodel-class) has this [export_model](/auto_model/#export_model-method) function.\n"
      ]
    },
    {
      "cell_type": "code",
      "metadata": {
        "id": "zY_ZRq5OWBfP",
        "colab_type": "code",
        "colab": {}
      },
      "source": [
        "!pip install tensorflow==2.1.0\n",
        "!pip install autokeras"
      ],
      "execution_count": 0,
      "outputs": []
    },
    {
      "cell_type": "code",
      "metadata": {
        "id": "DgEGQ7g_ipQc",
        "colab_type": "code",
        "colab": {}
      },
      "source": [
        "import tensorflow as tf\n",
        "print(tf.__version__)"
      ],
      "execution_count": 0,
      "outputs": []
    },
    {
      "cell_type": "code",
      "metadata": {
        "id": "3I7gaP9noZq_",
        "colab_type": "code",
        "colab": {}
      },
      "source": [
        "from tensorflow.keras.datasets import mnist\n",
        "import tensorflow as tf\n",
        "import autokeras as ak\n",
        "\n",
        "(x_train, y_train), (x_test, y_test) = mnist.load_data()\n",
        "\n",
        "# Initialize the image classifier.\n",
        "clf = ak.ImageClassifier(max_trials=1) # Try only 1 model.(Increase accordingly)\n",
        "# Feed the image classifier with training data.\n",
        "clf.fit(x_train, y_train,epochs=1) # Change no of epochs to improve the model\n",
        "# Export as a Keras Model.\n",
        "model = clf.export_model()\n",
        "\n",
        "print(type(model))  # <class 'tensorflow.python.keras.engine.training.Model'>"
      ],
      "execution_count": 0,
      "outputs": []
    },
    {
      "cell_type": "code",
      "metadata": {
        "id": "mkjKTERKlTUF",
        "colab_type": "code",
        "colab": {}
      },
      "source": [
        "try:\n",
        "\tmodel.save('model_autokeras', save_format='tf')\n",
        "except:\n",
        "\tmodel.save('model_autokeras.h5')"
      ],
      "execution_count": 0,
      "outputs": []
    },
    {
      "cell_type": "code",
      "metadata": {
        "id": "AVqj94jTVetl",
        "colab_type": "code",
        "colab": {}
      },
      "source": [
        "from tensorflow.keras.models import load_model\n",
        "loaded_model = load_model('model_autokeras', custom_objects=ak.CUSTOM_OBJECTS)"
      ],
      "execution_count": 0,
      "outputs": []
    },
    {
      "cell_type": "code",
      "metadata": {
        "id": "ZRtCSrfSnzq-",
        "colab_type": "code",
        "colab": {}
      },
      "source": [
        "predicted_y = loaded_model.predict(tf.expand_dims(x_test,-1))\n",
        "print(predicted_y)"
      ],
      "execution_count": 0,
      "outputs": []
    },
    {
      "cell_type": "code",
      "metadata": {
        "id": "zHtd6ln3yhPt",
        "colab_type": "code",
        "colab": {}
      },
      "source": [
        ""
      ],
      "execution_count": 0,
      "outputs": []
    }
  ]
}